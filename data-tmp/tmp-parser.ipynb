{
 "cells": [
  {
   "cell_type": "code",
   "execution_count": 1,
   "metadata": {},
   "outputs": [],
   "source": [
    "import json\n",
    "\n",
    "from glob import glob\n",
    "from bs4 import BeautifulSoup as BS"
   ]
  },
  {
   "cell_type": "code",
   "execution_count": 9,
   "metadata": {},
   "outputs": [],
   "source": [
    "infos = []\n",
    "\n",
    "for file in glob(\"data-tmp/*.htm\"):\n",
    "    with open(file, \"r\", encoding=\"utf-8\") as f:\n",
    "        parsed = BS(f.read().replace(\"/>\", \">\"), \"html.parser\")\n",
    "\n",
    "    try:\n",
    "        collection = \" \".join([word.strip() for word in parsed.find(\"div\", {\"data-tab-id\": \"about-collection\"}).findChild(\"div\").text.strip().split()])\n",
    "    except AttributeError as e:\n",
    "        collection = \"\"\n",
    "\n",
    "    try:\n",
    "        description = \" \".join([word.strip() for word in parsed.find(\"div\", {\"data-tab-id\": \"about\"}).findChild(\"div\").text.strip().split()])\n",
    "    except AttributeError as e:\n",
    "        description = \"\"\n",
    "\n",
    "    attributes = {}\n",
    "\n",
    "    for chars in parsed.find_all(\"div\", {\"class\": \"characteristics-el\"}):\n",
    "        for row in chars.find_all(\"div\", {\"class\": \"characteristics-el-row\"}):\n",
    "            attributes[\" \".join([word.strip() for word in row.find(\"div\", {\"class\": \"name\"}).text.strip().split()])] = \" \".join([word.strip() for word in row.find(\"div\", {\"class\": \"val\"}).text.strip().split()])\n",
    "\n",
    "    all_info = {\n",
    "        \"name\": parsed.find(\"title\").text.strip(),\n",
    "        \"collection\": collection,\n",
    "        \"description\": description,\n",
    "        \"attributes\": attributes\n",
    "    }\n",
    "    infos.append(all_info)"
   ]
  },
  {
   "cell_type": "code",
   "execution_count": 10,
   "metadata": {},
   "outputs": [],
   "source": [
    "with open(\"specs.json\", \"w\", encoding=\"utf-8\") as f:\n",
    "    f.write(json.dumps(infos, ensure_ascii=False))"
   ]
  },
  {
   "cell_type": "code",
   "execution_count": null,
   "metadata": {},
   "outputs": [],
   "source": []
  }
 ],
 "metadata": {
  "kernelspec": {
   "display_name": "Python 3.10.6 64-bit",
   "language": "python",
   "name": "python3"
  },
  "language_info": {
   "codemirror_mode": {
    "name": "ipython",
    "version": 3
   },
   "file_extension": ".py",
   "mimetype": "text/x-python",
   "name": "python",
   "nbconvert_exporter": "python",
   "pygments_lexer": "ipython3",
   "version": "3.10.6"
  },
  "orig_nbformat": 4,
  "vscode": {
   "interpreter": {
    "hash": "d3e10ef16274dd72e574b8fa73b58450b957d8421a2901baded3cca26fcf5dda"
   }
  }
 },
 "nbformat": 4,
 "nbformat_minor": 2
}
